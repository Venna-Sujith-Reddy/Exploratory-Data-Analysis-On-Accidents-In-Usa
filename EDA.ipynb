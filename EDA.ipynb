{
  "cells": [
    {
      "cell_type": "code",
      "execution_count": null,
      "metadata": {
        "colab": {
          "base_uri": "https://localhost:8080/"
        },
        "id": "YfpqsJDu8y2v",
        "outputId": "c0910bec-b67a-47ae-ba9e-ae8a6977f9d1"
      },
      "outputs": [],
      "source": [
        "!git clone https://github.com/Venna-Sujith-Reddy/Exploratory-Data-Analysis-On-Accidents-In-Usa"
      ]
    },
    {
      "cell_type": "code",
      "execution_count": null,
      "metadata": {
        "colab": {
          "base_uri": "https://localhost:8080/",
          "height": 36
        },
        "id": "1yivWCnO9KU8",
        "outputId": "6b82f91a-01ef-4cd5-934b-1ee3265fcb56"
      },
      "outputs": [],
      "source": [
        "pwd\n"
      ]
    },
    {
      "cell_type": "code",
      "execution_count": null,
      "metadata": {
        "colab": {
          "base_uri": "https://localhost:8080/"
        },
        "id": "hcg6vY459Lvf",
        "outputId": "883de329-80c8-445e-b714-4a143d5cef97"
      },
      "outputs": [],
      "source": [
        "%cd Exploratory-Data-Analysis-On-Accidents-In-Usa\n"
      ]
    },
    {
      "cell_type": "markdown",
      "metadata": {
        "id": "buahcPeb-06g"
      },
      "source": [
        "THis project is to do Analysis on Accidetns in Us from 2016 to 2021 with 4.2 million records\n"
      ]
    },
    {
      "cell_type": "code",
      "execution_count": null,
      "metadata": {
        "colab": {
          "base_uri": "https://localhost:8080/",
          "height": 90
        },
        "id": "wFkNskx69pbe",
        "outputId": "ddbab268-c35d-4b51-bb7c-f0033e3fb29d"
      },
      "outputs": [],
      "source": [
        "from google.colab import files\n",
        "files.upload()"
      ]
    },
    {
      "cell_type": "code",
      "execution_count": 6,
      "metadata": {
        "id": "FTlBarzDAsp8"
      },
      "outputs": [],
      "source": [
        "!mkdir -p ~/.kaggle"
      ]
    },
    {
      "cell_type": "code",
      "execution_count": null,
      "metadata": {
        "colab": {
          "base_uri": "https://localhost:8080/"
        },
        "id": "nrAAa8ovCXT4",
        "outputId": "69c6d3a5-83b9-4317-a555-40957edbcd8a"
      },
      "outputs": [],
      "source": [
        "! ls\n",
        "! cp kaggle.json ~/.kaggle/\n",
        "!chmod 600 ~/.kaggle/kaggle.json\n",
        "!chmod 600 ~/.kaggle/kaggle.json\n",
        "!pip install -q kaggle\n",
        "!kaggle datasets download -d sobhanmoosavi/us-accidents\n",
        "\n",
        "!unzip -o us-accidents.zip"
      ]
    },
    {
      "cell_type": "code",
      "execution_count": 8,
      "metadata": {
        "id": "tRzNwuOXDIZN"
      },
      "outputs": [],
      "source": [
        "!mv \"kaggle (2).json\" kaggle.json\n"
      ]
    },
    {
      "cell_type": "code",
      "execution_count": 9,
      "metadata": {
        "id": "r4ft2L11DTWR"
      },
      "outputs": [],
      "source": [
        "!mkdir -p ~/.kaggle\n",
        "!cp kaggle.json ~/.kaggle/\n",
        "!chmod 600 ~/.kaggle/kaggle.json\n"
      ]
    },
    {
      "cell_type": "code",
      "execution_count": null,
      "metadata": {
        "colab": {
          "base_uri": "https://localhost:8080/"
        },
        "id": "Iab71uGvDVsR",
        "outputId": "b78518b6-e19f-4a3f-f7cf-8eaa6e85caf5"
      },
      "outputs": [],
      "source": [
        "!kaggle datasets download -d sobhanmoosavi/us-accidents\n"
      ]
    },
    {
      "cell_type": "code",
      "execution_count": null,
      "metadata": {
        "colab": {
          "base_uri": "https://localhost:8080/"
        },
        "id": "iAzYHrjADW1X",
        "outputId": "8f959679-9c87-49f9-ad63-4e83149ed153"
      },
      "outputs": [],
      "source": [
        "!unzip -o us-accidents.zip\n"
      ]
    },
    {
      "cell_type": "code",
      "execution_count": null,
      "metadata": {
        "colab": {
          "base_uri": "https://localhost:8080/"
        },
        "id": "q-g9-7w3Dsb9",
        "outputId": "500297b2-1073-49ff-d248-a337dd21613a"
      },
      "outputs": [],
      "source": [
        "!ls\n"
      ]
    },
    {
      "cell_type": "code",
      "execution_count": null,
      "metadata": {
        "colab": {
          "base_uri": "https://localhost:8080/"
        },
        "id": "EcKOLFAAFmOF",
        "outputId": "5c6215e9-b420-40d5-f5ef-35bd93e8c606"
      },
      "outputs": [],
      "source": [
        "!ls -la\n",
        "!pwd\n"
      ]
    },
    {
      "cell_type": "code",
      "execution_count": null,
      "metadata": {
        "colab": {
          "base_uri": "https://localhost:8080/",
          "height": 429
        },
        "id": "40kgsYlLOs4W",
        "outputId": "e214e8a2-8ea9-4f1f-bb80-041613d4adae"
      },
      "outputs": [],
      "source": [
        "# assuming the file is in the root dir for this example\n",
        "import os\n",
        "os.chdir('/content/Exploratory-Data-Analysis-On-Accidents-In-Usa')\n",
        "import pandas as pd\n",
        "df = pd.read_csv(\"US_Accidents_March23.csv\",nrows=420000)\n",
        "df.head()"
      ]
    },
    {
      "cell_type": "code",
      "execution_count": null,
      "metadata": {
        "colab": {
          "base_uri": "https://localhost:8080/"
        },
        "id": "ULZmF6ayO0My",
        "outputId": "7d0e7f09-55eb-41d2-aba6-8bc36f795963"
      },
      "outputs": [],
      "source": [
        "len(df)"
      ]
    },
    {
      "cell_type": "code",
      "execution_count": null,
      "metadata": {
        "colab": {
          "base_uri": "https://localhost:8080/"
        },
        "id": "vOIaEh2hQbuA",
        "outputId": "25a885ab-5bd2-41df-fd19-e569fdd88fa4"
      },
      "outputs": [],
      "source": [
        "df.columns"
      ]
    },
    {
      "cell_type": "code",
      "execution_count": 17,
      "metadata": {
        "id": "pgvPa5DvQc_z"
      },
      "outputs": [],
      "source": [
        "describeddf=df.describe()"
      ]
    },
    {
      "cell_type": "code",
      "execution_count": null,
      "metadata": {
        "colab": {
          "base_uri": "https://localhost:8080/"
        },
        "id": "Sscw2U7vQfPK",
        "outputId": "65eb879e-b8d0-40e7-d1a8-8a4253c9f222"
      },
      "outputs": [],
      "source": [
        "describeddf.columns"
      ]
    },
    {
      "cell_type": "code",
      "execution_count": null,
      "metadata": {
        "colab": {
          "base_uri": "https://localhost:8080/"
        },
        "id": "k6ow4Zs_Q6b9",
        "outputId": "1b447dc7-c05f-44aa-9cd9-d42b9c3c2691"
      },
      "outputs": [],
      "source": [
        "describeddf.shape[1]"
      ]
    },
    {
      "cell_type": "code",
      "execution_count": null,
      "metadata": {
        "colab": {
          "base_uri": "https://localhost:8080/",
          "height": 209
        },
        "id": "j1s2JYrUQ74p",
        "outputId": "d0af8b7e-0d5b-4140-908f-118afebb5851"
      },
      "outputs": [],
      "source": [
        "df.dtypes.value_counts()"
      ]
    },
    {
      "cell_type": "code",
      "execution_count": null,
      "metadata": {
        "colab": {
          "base_uri": "https://localhost:8080/",
          "height": 320
        },
        "id": "-9swHNrZRVSL",
        "outputId": "d3e2ec5f-ec15-469e-ff86-bc769aed4346"
      },
      "outputs": [],
      "source": [
        "describeddf"
      ]
    },
    {
      "cell_type": "code",
      "execution_count": 21,
      "metadata": {
        "id": "P44OkC6q-n9e"
      },
      "outputs": [],
      "source": []
    },
    {
      "cell_type": "code",
      "execution_count": 22,
      "metadata": {
        "id": "x-W98hEf-TZg"
      },
      "outputs": [],
      "source": [
        "missingpercentage=df.isnull().sum().sort_values(ascending=False)/len(df)*100"
      ]
    },
    {
      "cell_type": "code",
      "execution_count": null,
      "metadata": {
        "colab": {
          "base_uri": "https://localhost:8080/",
          "height": 448
        },
        "id": "TG2Ktdrs-fOY",
        "outputId": "1dd5d501-c5a1-4510-838e-1cecec74fb17"
      },
      "outputs": [],
      "source": [
        "missingpercentage.plot(kind='barh')"
      ]
    },
    {
      "cell_type": "code",
      "execution_count": null,
      "metadata": {
        "colab": {
          "base_uri": "https://localhost:8080/",
          "height": 447
        },
        "id": "gQ93zf1TKZBb",
        "outputId": "da1c7101-3d87-4f7b-cd1a-7e1da66b1d07"
      },
      "outputs": [],
      "source": [
        "missingpercentage[missingpercentage>0].plot(kind=\"barh\")"
      ]
    },
    {
      "cell_type": "code",
      "execution_count": 25,
      "metadata": {
        "id": "o-OpEDrKLmB1"
      },
      "outputs": [],
      "source": [
        "unique_cities=df['City'].unique()"
      ]
    },
    {
      "cell_type": "code",
      "execution_count": null,
      "metadata": {
        "colab": {
          "base_uri": "https://localhost:8080/"
        },
        "id": "F7KCh68pOYcG",
        "outputId": "3f699a66-e872-438c-a225-69b95d1eb4d7"
      },
      "outputs": [],
      "source": [
        "len(unique_cities)"
      ]
    },
    {
      "cell_type": "code",
      "execution_count": 27,
      "metadata": {
        "id": "lP85B0r0OZDP"
      },
      "outputs": [],
      "source": [
        "city_accident_counts = df.City.value_counts().sort_values(ascending=False)"
      ]
    },
    {
      "cell_type": "code",
      "execution_count": null,
      "metadata": {
        "colab": {
          "base_uri": "https://localhost:8080/",
          "height": 489
        },
        "id": "r4kNnoeuOfRq",
        "outputId": "9de3d057-517b-40c8-da62-11ee60ff4d0b"
      },
      "outputs": [],
      "source": [
        "city_accident_counts"
      ]
    },
    {
      "cell_type": "code",
      "execution_count": null,
      "metadata": {
        "colab": {
          "base_uri": "https://localhost:8080/",
          "height": 429
        },
        "id": "Or3vUZnVOrvE",
        "outputId": "ce11747b-11fd-4c71-e03b-e568f77d90e5"
      },
      "outputs": [],
      "source": [
        "city_accident_counts[:10]"
      ]
    },
    {
      "cell_type": "code",
      "execution_count": null,
      "metadata": {
        "colab": {
          "base_uri": "https://localhost:8080/"
        },
        "id": "51bBQa-_PejA",
        "outputId": "79a65c6c-c2a2-47de-d38c-db5b9097b45e"
      },
      "outputs": [],
      "source": [
        "'New York' in df.City"
      ]
    },
    {
      "cell_type": "code",
      "execution_count": null,
      "metadata": {
        "colab": {
          "base_uri": "https://localhost:8080/"
        },
        "id": "k3rWHZE1QEF4",
        "outputId": "5553aeef-361b-485b-d649-e38baf0adc9f"
      },
      "outputs": [],
      "source": [
        "df.columns"
      ]
    },
    {
      "cell_type": "code",
      "execution_count": 32,
      "metadata": {
        "id": "KUV4SQrHQkQw"
      },
      "outputs": [],
      "source": [
        "unique_states=df['State'].unique()"
      ]
    },
    {
      "cell_type": "code",
      "execution_count": null,
      "metadata": {
        "colab": {
          "base_uri": "https://localhost:8080/"
        },
        "id": "DrtW2YboQuat",
        "outputId": "ea27f324-31e8-4548-acd9-aae514647751"
      },
      "outputs": [],
      "source": [
        "unique_states"
      ]
    },
    {
      "cell_type": "code",
      "execution_count": 34,
      "metadata": {
        "id": "HjPH4xr6RAa2"
      },
      "outputs": [],
      "source": [
        "import numpy as np\n",
        "sorted_states = np.sort(unique_states)"
      ]
    },
    {
      "cell_type": "code",
      "execution_count": null,
      "metadata": {
        "colab": {
          "base_uri": "https://localhost:8080/",
          "height": 447
        },
        "id": "f1-QckiDRTgJ",
        "outputId": "6eb1b884-2fc1-4fb9-dea4-06fd2aa7d935"
      },
      "outputs": [],
      "source": [
        "city_accident_counts[:20].plot(kind=\"barh\")"
      ]
    },
    {
      "cell_type": "code",
      "execution_count": null,
      "metadata": {
        "colab": {
          "base_uri": "https://localhost:8080/",
          "height": 449
        },
        "id": "WW4-gsARRq2p",
        "outputId": "c45dd7c9-8706-41b6-d885-5282627228cd"
      },
      "outputs": [],
      "source": [
        "import seaborn as sns\n",
        "import matplotlib.pyplot as plt\n",
        "\n",
        "# Assuming 'data_for_histogram' is the data you want to visualize\n",
        "sns.histplot(city_accident_counts)\n",
        "plt.show()"
      ]
    },
    {
      "cell_type": "code",
      "execution_count": null,
      "metadata": {
        "colab": {
          "base_uri": "https://localhost:8080/",
          "height": 472
        },
        "id": "PRWFYYxyUl7n",
        "outputId": "7ef330a8-02fd-4354-84a0-25f022bfb404"
      },
      "outputs": [],
      "source": [
        "import seaborn as sns\n",
        "import matplotlib.pyplot as plt\n",
        "\n",
        "sns.histplot(data=city_accident_counts, bins=20, color='skyblue')\n",
        "plt.xlabel('Accident Counts')\n",
        "plt.ylabel('Number of Cities')\n",
        "plt.title('Distribution of Accidents per City (Zoomed In)')\n",
        "\n",
        "# Zoom in to the range 100 to 500\n",
        "plt.xlim(1000, 3000)\n",
        "\n",
        "plt.show()"
      ]
    },
    {
      "cell_type": "code",
      "execution_count": null,
      "metadata": {
        "colab": {
          "base_uri": "https://localhost:8080/",
          "height": 1000
        },
        "id": "0k_i3NQVUmcA",
        "outputId": "c1427e53-bbab-4ab4-ae4b-f6d0480e47f3"
      },
      "outputs": [],
      "source": [
        "highaccidentcities=city_accident_counts[city_accident_counts>1000]\n",
        "lowaccidentcities=city_accident_counts[city_accident_counts<1000]\n",
        "highaccidentcities\n"
      ]
    },
    {
      "cell_type": "code",
      "execution_count": null,
      "metadata": {
        "colab": {
          "base_uri": "https://localhost:8080/"
        },
        "id": "XQ0qNkwBVhdR",
        "outputId": "230e32d7-f64d-4863-a21b-378ef3a896ff"
      },
      "outputs": [],
      "source": [
        "len(highaccidentcities)/ len(city_accident_counts)"
      ]
    },
    {
      "cell_type": "code",
      "execution_count": null,
      "metadata": {
        "colab": {
          "base_uri": "https://localhost:8080/",
          "height": 663
        },
        "id": "n5O7neBxWIyp",
        "outputId": "6f5477cb-77da-412a-b6ee-93a02855dabc"
      },
      "outputs": [],
      "source": [
        "   # Transform the data to log scale\n",
        "   log_highaccidentcities = np.log(highaccidentcities)\n",
        "\n",
        "   sns.distplot(log_highaccidentcities, kde=True, color='skyblue')\n",
        "   plt.xlabel('Log of Accident Counts') #Update the x-axis label\n",
        "   plt.ylabel('Density')\n",
        "   plt.title('Distribution of High Accident Cities (Log Transformed)')\n",
        "   plt.show()"
      ]
    },
    {
      "cell_type": "code",
      "execution_count": null,
      "metadata": {
        "colab": {
          "base_uri": "https://localhost:8080/",
          "height": 663
        },
        "id": "4CnBZGGRWcMr",
        "outputId": "449f79b9-e02e-4b24-fe02-27b823526498"
      },
      "outputs": [],
      "source": [
        "   # Transform the data to log scale\n",
        "   log_lowaccidentcities = np.log(lowaccidentcities)\n",
        "\n",
        "   sns.distplot(log_lowaccidentcities, kde=True, color='skyblue')\n",
        "   plt.xlabel('Log of Accident Counts') #Update the x-axis label\n",
        "   plt.ylabel('Density')\n",
        "   plt.title('Distribution of High Accident Cities (Log Transformed)')\n",
        "   plt.show()"
      ]
    },
    {
      "cell_type": "code",
      "execution_count": null,
      "metadata": {
        "colab": {
          "base_uri": "https://localhost:8080/"
        },
        "id": "9FhsCQdpcVoH",
        "outputId": "dc81d845-c01f-42c3-8df2-58d0c2cb00bd"
      },
      "outputs": [],
      "source": [
        "column_dtype = df['Start_Time'].dtype\n",
        "print(column_dtype)"
      ]
    },
    {
      "cell_type": "markdown",
      "metadata": {
        "id": "RGXPOthtdj3n"
      },
      "source": [
        "1.At what time of day the accidents are occuring most.\n",
        "\n",
        "2. At which day of the week the accidents are most occuring"
      ]
    },
    {
      "cell_type": "markdown",
      "metadata": {
        "id": "76vK2ib-dIRh"
      },
      "source": [
        "converting date to different format to that we can change it into hour at which the most accident are occuring"
      ]
    },
    {
      "cell_type": "markdown",
      "metadata": {
        "id": "kpV98CCkeCRw"
      },
      "source": [
        "In Which month of the year the most accidents are occuring"
      ]
    },
    {
      "cell_type": "code",
      "execution_count": 53,
      "metadata": {
        "id": "w53vqQN1bGSL"
      },
      "outputs": [],
      "source": [
        "df['Start_Time'] = pd.to_datetime(df['Start_Time'])"
      ]
    },
    {
      "cell_type": "markdown",
      "metadata": {
        "id": "NduQ4rI5eMqb"
      },
      "source": [
        "trend of accident are they decreasing or increasing"
      ]
    },
    {
      "cell_type": "code",
      "execution_count": null,
      "metadata": {
        "colab": {
          "base_uri": "https://localhost:8080/"
        },
        "id": "IJcodeB1c2Q7",
        "outputId": "2aaecb44-0cd2-4312-c1b5-f1a5535482d6"
      },
      "outputs": [],
      "source": [
        "column_dtype = df['Start_Time'].dtype\n",
        "print(column_dtype)"
      ]
    },
    {
      "cell_type": "code",
      "execution_count": 62,
      "metadata": {
        "id": "7brD9zxoesL0"
      },
      "outputs": [],
      "source": [
        "df['Hour'] = df['Start_Time'].dt.hour"
      ]
    },
    {
      "cell_type": "code",
      "execution_count": null,
      "metadata": {
        "colab": {
          "base_uri": "https://localhost:8080/",
          "height": 447
        },
        "id": "pVWXWYNvfDkY",
        "outputId": "561607c1-75a8-45df-d36e-63e750e0fc6d"
      },
      "outputs": [],
      "source": [
        "df['Hour'].plot(kind='hist',bins=24)"
      ]
    },
    {
      "cell_type": "code",
      "execution_count": null,
      "metadata": {
        "colab": {
          "base_uri": "https://localhost:8080/",
          "height": 468
        },
        "id": "J3A6Ee18fF0f",
        "outputId": "8c50409d-3dc6-488f-8a8b-6f68a198b60f"
      },
      "outputs": [],
      "source": [
        "sns.histplot(df['Hour'],bins=24, stat=\"probability\")"
      ]
    },
    {
      "cell_type": "markdown",
      "metadata": {
        "id": "8jPjyEcAhObq"
      },
      "source": [
        "maybe people going to work are in hurry and also traffic is  higher so the accidents are high"
      ]
    },
    {
      "cell_type": "markdown",
      "metadata": {
        "id": "dy-pQGPWhrfr"
      },
      "source": [
        "lets analyze the day of the week"
      ]
    },
    {
      "cell_type": "code",
      "execution_count": 74,
      "metadata": {
        "id": "jr8qDOnDhulS"
      },
      "outputs": [],
      "source": [
        "dayofweek=df['Start_Time'].dt.day_name()"
      ]
    },
    {
      "cell_type": "code",
      "execution_count": null,
      "metadata": {
        "colab": {
          "base_uri": "https://localhost:8080/",
          "height": 466
        },
        "id": "0HEBeXtGhxzA",
        "outputId": "e7b6ab4f-4098-4fa8-b325-1dc1a83ef510"
      },
      "outputs": [],
      "source": [
        "sns.countplot(dayofweek)"
      ]
    },
    {
      "cell_type": "code",
      "execution_count": null,
      "metadata": {
        "colab": {
          "base_uri": "https://localhost:8080/",
          "height": 467
        },
        "id": "NIRRrPCKhyyX",
        "outputId": "c2f297ff-2831-42c6-83c5-e629856a2e84"
      },
      "outputs": [],
      "source": [
        "sns.histplot(dayofweek,bins=7, stat=\"probability\")"
      ]
    },
    {
      "cell_type": "markdown",
      "metadata": {
        "id": "kJdsvtMUiAAC"
      },
      "source": [
        "accidents are high in weekday so I think people are in hurry during week day which is causing accidents in week days"
      ]
    },
    {
      "cell_type": "markdown",
      "metadata": {
        "id": "S7BhE4gAibeV"
      },
      "source": [
        "lets check if the hour of accidents in weekdays and weekends are different or same\n"
      ]
    },
    {
      "cell_type": "code",
      "execution_count": null,
      "metadata": {
        "colab": {
          "base_uri": "https://localhost:8080/",
          "height": 467
        },
        "id": "xebN_bEgidF6",
        "outputId": "f0b82de7-8d05-4deb-fbbb-f4b2f4f622fc"
      },
      "outputs": [],
      "source": []
    },
    {
      "cell_type": "code",
      "execution_count": null,
      "metadata": {
        "colab": {
          "base_uri": "https://localhost:8080/",
          "height": 468
        },
        "id": "5ycoShlIis30",
        "outputId": "bcf33fae-e785-450a-9b67-cb17e242d914"
      },
      "outputs": [],
      "source": [
        "sns.histplot(dayofweek[0],bins=24, stat=\"probability\")"
      ]
    },
    {
      "cell_type": "code",
      "execution_count": null,
      "metadata": {
        "colab": {
          "base_uri": "https://localhost:8080/",
          "height": 466
        },
        "id": "g986kHcijCG4",
        "outputId": "06f1da7d-5e83-4f4a-e097-53868dd0a8af"
      },
      "outputs": [],
      "source": [
        "sns.histplot(df['Hour'][dayofweek == 'Sunday'])"
      ]
    },
    {
      "cell_type": "code",
      "execution_count": null,
      "metadata": {
        "colab": {
          "base_uri": "https://localhost:8080/",
          "height": 466
        },
        "id": "Dhb-x6bkjSuR",
        "outputId": "d1efc025-0fc1-45c0-fb84-bcde2c7a184b"
      },
      "outputs": [],
      "source": [
        "sns.histplot(df['Hour'][dayofweek == 'Saturday'])"
      ]
    },
    {
      "cell_type": "code",
      "execution_count": null,
      "metadata": {
        "colab": {
          "base_uri": "https://localhost:8080/",
          "height": 466
        },
        "id": "e4wheh1ioKic",
        "outputId": "bf96b609-c9a7-468f-b144-235dc4fb932f"
      },
      "outputs": [],
      "source": [
        "sns.histplot(df['Hour'][dayofweek == 'Friday'])"
      ]
    },
    {
      "cell_type": "code",
      "execution_count": null,
      "metadata": {
        "id": "NBxIHaT3oM-P"
      },
      "outputs": [],
      "source": []
    },
    {
      "cell_type": "code",
      "execution_count": null,
      "metadata": {
        "colab": {
          "base_uri": "https://localhost:8080/",
          "height": 472
        },
        "id": "2RoydMrlp0Vc",
        "outputId": "43cd45e3-79d3-4829-ba72-d5d2a4bd814a"
      },
      "outputs": [],
      "source": [
        "import seaborn as sns\n",
        "import matplotlib.pyplot as plt\n",
        "import pandas as pd  # Import pandas if not already imported\n",
        "\n",
        "# Assuming you have a DataFrame 'df' with columns 'Hour' and 'dayofweek'\n",
        "# and 'dayofweek' contains values like 'Monday', 'Tuesday', etc.\n",
        "\n",
        "days_to_plot = ['Monday', 'Tuesday', 'Wednesday', 'Thursday', 'Friday']\n",
        "colors = sns.color_palette(\"husl\", len(days_to_plot))  # Get a color palette\n",
        "\n",
        "fig, ax = plt.subplots()  # Create a figure and an axes object\n",
        "\n",
        "for day, color in zip(days_to_plot, colors):\n",
        "    sns.histplot(df.loc[dayofweek == day,'Hour'], bins=24, kde=True, color=color, ax=ax, label=day)\n",
        "    # or sns.distplot(...) if using an older version of Seaborn\n",
        "\n",
        "plt.xlabel('Hour of Day')\n",
        "plt.ylabel('Density')  # Or 'Frequency' or 'Probability'\n",
        "plt.title('Distribution of Accidents by Hour of Day for Different Days')\n",
        "plt.legend()  # Show the legend to identify the days\n",
        "plt.show()"
      ]
    },
    {
      "cell_type": "code",
      "execution_count": null,
      "metadata": {
        "colab": {
          "base_uri": "https://localhost:8080/",
          "height": 458
        },
        "id": "fRQaZJ6Up1Ab",
        "outputId": "f60fc848-1809-493a-b89c-1118ea3a31cf"
      },
      "outputs": [],
      "source": [
        "dayofweek"
      ]
    },
    {
      "cell_type": "markdown",
      "metadata": {
        "id": "Aqsb9Ig_sbXa"
      },
      "source": [
        "lets see if there are more accidents in warmer or colder areas"
      ]
    },
    {
      "cell_type": "code",
      "execution_count": null,
      "metadata": {
        "colab": {
          "base_uri": "https://localhost:8080/"
        },
        "id": "dYzSzOlSsea4",
        "outputId": "1bc5adf9-8c6b-437e-9c45-92fd4f59be59"
      },
      "outputs": [],
      "source": [
        "df.columns"
      ]
    },
    {
      "cell_type": "code",
      "execution_count": null,
      "metadata": {
        "colab": {
          "base_uri": "https://localhost:8080/",
          "height": 466
        },
        "id": "9rDCHNOrsf4x",
        "outputId": "e097c1d0-83fa-4eaa-855b-dbfdca065e61"
      },
      "outputs": [],
      "source": [
        "sns.histplot(df['Temperature(F)'],bins=100)"
      ]
    },
    {
      "cell_type": "code",
      "execution_count": null,
      "metadata": {
        "colab": {
          "base_uri": "https://localhost:8080/",
          "height": 458
        },
        "id": "EuyzJUN4s-Ot",
        "outputId": "e0494895-3aee-43b6-d05b-cc3dfd429596"
      },
      "outputs": [],
      "source": [
        "df['Temperature(F)']"
      ]
    },
    {
      "cell_type": "markdown",
      "metadata": {
        "id": "g_1Azq2Wy6p-"
      },
      "source": []
    },
    {
      "cell_type": "code",
      "execution_count": null,
      "metadata": {
        "colab": {
          "base_uri": "https://localhost:8080/",
          "height": 467
        },
        "id": "0oYaCH5UuTe9",
        "outputId": "3cefcaaa-6622-441a-ec1c-b6ea77754ce9"
      },
      "outputs": [],
      "source": [
        "# 1. Create a boolean mask for the year 2016\n",
        "is_2016 = (df['Start_Time'].dt.year == 2016)\n",
        "\n",
        "# 2. Filter the DataFrame to get only 2016 data\n",
        "df_2016 = df[is_2016]\n",
        "\n",
        "# 3. Extract the month from the 'Start_Time' column of the filtered DataFrame\n",
        "months_in_2016 = df_2016['Start_Time'].dt.month\n",
        "\n",
        "# 4. Plot the histogram of those months\n",
        "sns.histplot(months_in_2016, bins=12, discrete=True)"
      ]
    },
    {
      "cell_type": "code",
      "execution_count": null,
      "metadata": {
        "colab": {
          "base_uri": "https://localhost:8080/",
          "height": 467
        },
        "id": "oHNYyF3qvOIE",
        "outputId": "64a6fcc7-dc1b-4312-9ff2-f61318d3634d"
      },
      "outputs": [],
      "source": [
        "# 1. Create a boolean mask for the year 2016\n",
        "is_2016 = (df['Start_Time'].dt.year == 2017)\n",
        "\n",
        "# 2. Filter the DataFrame to get only 2016 data\n",
        "df_2016 = df[is_2016]\n",
        "\n",
        "# 3. Extract the month from the 'Start_Time' column of the filtered DataFrame\n",
        "months_in_2016 = df_2016['Start_Time'].dt.month\n",
        "\n",
        "# 4. Plot the histogram of those months\n",
        "sns.histplot(months_in_2016, bins=12, discrete=True)"
      ]
    },
    {
      "cell_type": "code",
      "execution_count": null,
      "metadata": {
        "colab": {
          "base_uri": "https://localhost:8080/"
        },
        "id": "zIhKLbwX2d34",
        "outputId": "aa24b73a-dfc2-4d4d-db84-79d78a14bebe"
      },
      "outputs": [],
      "source": [
        "df.columns"
      ]
    },
    {
      "cell_type": "code",
      "execution_count": null,
      "metadata": {
        "colab": {
          "base_uri": "https://localhost:8080/",
          "height": 466
        },
        "id": "Z8Tl_1Lj2yx8",
        "outputId": "46295f0a-5fc9-468f-da38-ef1b38ce0b16"
      },
      "outputs": [],
      "source": [
        "sns.scatterplot(x='Start_Lat',y='Start_Lng',data=df)"
      ]
    },
    {
      "cell_type": "code",
      "execution_count": 132,
      "metadata": {
        "id": "-EJkNSYP3FCc"
      },
      "outputs": [],
      "source": [
        "import folium"
      ]
    },
    {
      "cell_type": "code",
      "execution_count": 141,
      "metadata": {
        "id": "lpd1lf3d3TT7"
      },
      "outputs": [],
      "source": [
        "m=folium.Map()"
      ]
    },
    {
      "cell_type": "code",
      "execution_count": null,
      "metadata": {
        "colab": {
          "base_uri": "https://localhost:8080/"
        },
        "id": "q_-lg3bq3wbT",
        "outputId": "b056cf7d-a2b0-480b-9631-4b0d9748bb30"
      },
      "outputs": [],
      "source": [
        "lat,lon=df['Start_Lat'],df['Start_Lng']\n",
        "lat,lon"
      ]
    },
    {
      "cell_type": "code",
      "execution_count": 146,
      "metadata": {
        "id": "e8kuVl6T36GZ"
      },
      "outputs": [],
      "source": [
        "from folium.plugins import MarkerCluster\n",
        "marker_cluster = MarkerCluster().add_to(m)\n",
        "\n",
        "for lat, lon in zip(lat,lon):\n",
        "     folium.Marker(location=[lat, lon]).add_to(marker_cluster) # Add to cluster\n"
      ]
    },
    {
      "cell_type": "code",
      "execution_count": null,
      "metadata": {
        "colab": {
          "base_uri": "https://localhost:8080/",
          "height": 532
        },
        "id": "809v5Run4KNx",
        "outputId": "a77de86c-17c5-4e04-8c0a-4fe014201219"
      },
      "outputs": [],
      "source": [
        "m"
      ]
    },
    {
      "cell_type": "code",
      "execution_count": null,
      "metadata": {
        "id": "Rbw2Zy5U59BJ"
      },
      "outputs": [],
      "source": []
    },
    {
      "cell_type": "code",
      "execution_count": 148,
      "metadata": {
        "id": "HM-Xs_DW8LJO"
      },
      "outputs": [],
      "source": [
        "!git config --global user.name \"Venna-Sujith-Reddy\"\n",
        "!git config --global user.email \"Vennasujithreddy4@gmail.lat\""
      ]
    },
    {
      "cell_type": "code",
      "execution_count": null,
      "metadata": {
        "colab": {
          "base_uri": "https://localhost:8080/"
        },
        "id": "DCTaKWHI8ZXw",
        "outputId": "2715772d-2675-4753-d360-c1ce38048bda"
      },
      "outputs": [],
      "source": [
        "!git status\n"
      ]
    },
    {
      "cell_type": "code",
      "execution_count": null,
      "metadata": {
        "colab": {
          "base_uri": "https://localhost:8080/"
        },
        "id": "KcQVYQ-w8drm",
        "outputId": "ffd3ef1d-5b20-4b39-95db-8e53b99a51b5"
      },
      "outputs": [],
      "source": [
        "!git cd \"US_Accidents_March23.csv\""
      ]
    },
    {
      "cell_type": "code",
      "execution_count": null,
      "metadata": {
        "colab": {
          "base_uri": "https://localhost:8080/"
        },
        "id": "z4mN0vbG8npm",
        "outputId": "8e409a91-0ac6-4b4b-e62f-53bff2dca1ad"
      },
      "outputs": [],
      "source": [
        "!pwd\n"
      ]
    },
    {
      "cell_type": "code",
      "execution_count": null,
      "metadata": {
        "colab": {
          "base_uri": "https://localhost:8080/"
        },
        "id": "wsctAKcd83Hp",
        "outputId": "5ebab0c9-3952-4c8f-ac89-99441f968cb1"
      },
      "outputs": [],
      "source": [
        "!git add EDA.ipynb"
      ]
    },
    {
      "cell_type": "code",
      "execution_count": null,
      "metadata": {
        "id": "UJjKSAL18__5"
      },
      "outputs": [],
      "source": []
    },
    {
      "cell_type": "code",
      "execution_count": null,
      "metadata": {
        "colab": {
          "base_uri": "https://localhost:8080/"
        },
        "id": "Rp8e-iPX9jbK",
        "outputId": "ab5f0394-cb23-4c76-d750-c39302ba22d3"
      },
      "outputs": [],
      "source": [
        "import os\n",
        "print(os.getcwd())"
      ]
    },
    {
      "cell_type": "code",
      "execution_count": null,
      "metadata": {
        "id": "qw9Qk7DG9jrO"
      },
      "outputs": [],
      "source": []
    },
    {
      "cell_type": "code",
      "execution_count": null,
      "metadata": {
        "colab": {
          "base_uri": "https://localhost:8080/"
        },
        "id": "EM_EYv4f9pSv",
        "outputId": "2eca4c58-da8e-4e97-c65c-5f2b6385380a"
      },
      "outputs": [],
      "source": [
        "import os\n",
        "print(os.listdir())"
      ]
    }
  ],
  "metadata": {
    "colab": {
      "provenance": []
    },
    "kernelspec": {
      "display_name": "Python 3",
      "name": "python3"
    },
    "language_info": {
      "name": "python"
    }
  },
  "nbformat": 4,
  "nbformat_minor": 0
}
